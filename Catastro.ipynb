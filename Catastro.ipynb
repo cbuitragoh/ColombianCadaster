{
  "nbformat": 4,
  "nbformat_minor": 0,
  "metadata": {
    "colab": {
      "name": "Catastro.ipynb",
      "provenance": [],
      "collapsed_sections": [],
      "mount_file_id": "1lvalFQ2MvTzUIVPHPOxbHKX1rXV864zS",
      "authorship_tag": "ABX9TyMo8hALHZPi0NUssChmbfwa",
      "include_colab_link": true
    },
    "kernelspec": {
      "name": "python3",
      "display_name": "Python 3"
    },
    "language_info": {
      "name": "python"
    }
  },
  "cells": [
    {
      "cell_type": "markdown",
      "metadata": {
        "id": "view-in-github",
        "colab_type": "text"
      },
      "source": [
        "<a href=\"https://colab.research.google.com/github/cbuitragoh/ColombianCadastreAnalysis/blob/main/Catastro.ipynb\" target=\"_parent\"><img src=\"https://colab.research.google.com/assets/colab-badge.svg\" alt=\"Open In Colab\"/></a>"
      ]
    },
    {
      "cell_type": "markdown",
      "source": [
        "# **ANALYSIS OF THE COLOMBIAN CADASTRE**\n",
        "\n",
        "This notebook is an EDA by the cadastre information of Colombia to 2022. The basis information get in https://geoportal.igac.gov.co/contenido/datos-abiertos-igac"
      ],
      "metadata": {
        "id": "dlj43D-lGe52"
      }
    },
    {
      "cell_type": "code",
      "execution_count": null,
      "metadata": {
        "id": "TI6CsrRcZUFO"
      },
      "outputs": [],
      "source": [
        "# import necessary libraries\n",
        "\n",
        "import pandas as pd\n",
        "import numpy as np\n",
        "import matplotlib.pyplot as plt\n",
        "import seaborn as sns\n",
        "from warnings import filterwarnings\n",
        "\n",
        "filterwarnings('ignore')"
      ]
    },
    {
      "cell_type": "code",
      "source": [
        "# loading data and displaying it\n",
        "\n",
        "data = pd.read_csv('/content/drive/MyDrive/Catastro/TOTAL_NACIONAL_REG2.csv', encoding='latin-1')\n",
        "data.head()"
      ],
      "metadata": {
        "id": "ssKjrFcWhghp"
      },
      "execution_count": null,
      "outputs": []
    },
    {
      "cell_type": "markdown",
      "source": [
        "We see that the data encoding = 'latin-1' because this data presents specific characters not available in utf-8 format. Row 0 will be removed because it is only NaN.\n",
        "\n",
        "Here we are ready to start analyzing our data."
      ],
      "metadata": {
        "id": "DecAP6YIS4yB"
      }
    },
    {
      "cell_type": "code",
      "source": [
        "# let's see the fundamental information of the dataFrame\n",
        "\n",
        "data.info()"
      ],
      "metadata": {
        "id": "PHr1ObsfQWgw"
      },
      "execution_count": null,
      "outputs": []
    },
    {
      "cell_type": "markdown",
      "source": [
        "it's okay. we see that our dataFrame has 2 columns of numeric values ​​(dtype float64) and 32 columns of object values. this is important to define the necessary manipulations for data processing. \n",
        "\n",
        "This dataFrame is memory intensive."
      ],
      "metadata": {
        "id": "rfPqYm4pU8m_"
      }
    },
    {
      "cell_type": "code",
      "source": [
        "# features and characteristics of data\n",
        "\n",
        "print('The shape of dataFrame is: ', data.shape, '\\n')\n",
        "print('-----------------------------------------------')\n",
        "print('The unique columns in dataFrame is: ', data.columns.unique(), '\\n')\n",
        "print('-----------------------------------------------')\n",
        "print('The total unique columns is: ', len(data.columns.unique()), '\\n')\n",
        "print('-----------------------------------------------')\n",
        "print('The total null values in dataFrame is: ', data.isnull().sum().sum(), '\\n')\n"
      ],
      "metadata": {
        "id": "gV5DYiykrWar"
      },
      "execution_count": null,
      "outputs": []
    },
    {
      "cell_type": "markdown",
      "source": [
        "\n",
        "So far we know that our data frame has no duplicate columns and has 5493 null values.\n",
        "\n",
        "let's find where these null values ​​are."
      ],
      "metadata": {
        "id": "Mv7dxbyXYHF0"
      }
    },
    {
      "cell_type": "code",
      "source": [
        "print('The null values by columns is:','\\n', data.isnull().sum())"
      ],
      "metadata": {
        "id": "_l6XOWHCZBBd"
      },
      "execution_count": null,
      "outputs": []
    },
    {
      "cell_type": "markdown",
      "source": [
        "it's okay. At first glance it is detected that the null values ​​belong mostly to the column 'NUMERO_PREDIAL_ANTERIOR' and another 2 related to the 'ZONA_FISICA'\n",
        "\n",
        "fortunately this column (NUMERO_PREDIAL_ANTERIOR) is not essential for our analyses."
      ],
      "metadata": {
        "id": "6o1WJjbBZywS"
      }
    },
    {
      "cell_type": "code",
      "source": [
        "# let's take a look at the basic statistics of the data (this function only uses numeric column values)\n",
        "\n",
        "data.describe()"
      ],
      "metadata": {
        "id": "dzGq2G2Vso0o"
      },
      "execution_count": null,
      "outputs": []
    },
    {
      "cell_type": "markdown",
      "source": [
        "This is an interesting problem. We see that the information is displayed in a complex format to read, this is because the data types are float and object\n",
        "\n",
        "Also keep in mind that some columns are actually categorical and not numeric. For example, 'DEPARTMENTO', 'MUNICIPIO'. Therefore, these statistics do not reveal significant information."
      ],
      "metadata": {
        "id": "OVirFPrcbLkF"
      }
    },
    {
      "cell_type": "code",
      "source": [
        "# let's see correlations between numerical variables (columns)\n",
        "\n",
        "data.corr()"
      ],
      "metadata": {
        "id": "A-84bt2rtauL"
      },
      "execution_count": null,
      "outputs": []
    },
    {
      "cell_type": "markdown",
      "source": [
        "Here we see that there are no significant correlations between truly numerical variables. let us remember that DEPARTMENTO and MUNICIPIO are truly categorical variables."
      ],
      "metadata": {
        "id": "M2eQ41swdRbc"
      }
    },
    {
      "cell_type": "code",
      "source": [
        "# we delete the row 0 and we verificate\n",
        "\n",
        "data.drop([0], inplace=True)\n",
        "print(data.shape)\n",
        "data.head()"
      ],
      "metadata": {
        "id": "yWhk5KkafZ77"
      },
      "execution_count": null,
      "outputs": []
    },
    {
      "cell_type": "markdown",
      "source": [
        "let's draw the frequency curves of the numerical variables"
      ],
      "metadata": {
        "id": "vSgmXqlgiK9n"
      }
    },
    {
      "cell_type": "code",
      "source": [
        "# the frequency distribution of the truly numerical variables\n"
      ],
      "metadata": {
        "id": "W53yGPShtpYI"
      },
      "execution_count": null,
      "outputs": []
    }
  ]
}